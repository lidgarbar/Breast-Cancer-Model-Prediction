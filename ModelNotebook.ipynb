{
  "cells": [
    {
      "cell_type": "markdown",
      "metadata": {
        "colab_type": "text",
        "id": "view-in-github"
      },
      "source": [
        "<a href=\"https://colab.research.google.com/github/lidgarbar/Breast-Cancer-Model-Prediction/blob/main/ModelNotebook.ipynb\" target=\"_parent\"><img src=\"https://colab.research.google.com/assets/colab-badge.svg\" alt=\"Open In Colab\"/></a>"
      ]
    },
    {
      "attachments": {},
      "cell_type": "markdown",
      "metadata": {},
      "source": [
        "# Breast Cancer Prediction Model \n",
        "> Authors: Juan Sánchez Moreno and Lidia García Barragán"
      ]
    },
    {
      "attachments": {},
      "cell_type": "markdown",
      "metadata": {},
      "source": [
        "## Setup and imports"
      ]
    },
    {
      "cell_type": "code",
      "execution_count": 1,
      "metadata": {
        "colab": {
          "base_uri": "https://localhost:8080/"
        },
        "id": "zTF1VQmRC-X4",
        "outputId": "3b40edf8-3f68-4a83-dd9a-fa4a7537e657"
      },
      "outputs": [
        {
          "name": "stdout",
          "output_type": "stream",
          "text": [
            "Requirement already satisfied: tensorflow in c:\\users\\lidia\\miniconda3\\lib\\site-packages (2.11.0)\n",
            "Requirement already satisfied: tensorflow-gpu in c:\\users\\lidia\\miniconda3\\lib\\site-packages (2.10.1)\n",
            "Requirement already satisfied: opencv-python in c:\\users\\lidia\\miniconda3\\lib\\site-packages (4.6.0.66)\n",
            "Requirement already satisfied: matplotlib in c:\\users\\lidia\\miniconda3\\lib\\site-packages (3.3.2)\n",
            "Requirement already satisfied: pandas in c:\\users\\lidia\\miniconda3\\lib\\site-packages (1.5.1)\n",
            "Requirement already satisfied: scikit-learn in c:\\users\\lidia\\miniconda3\\lib\\site-packages (1.1.3)\n",
            "Requirement already satisfied: tqdm in c:\\users\\lidia\\miniconda3\\lib\\site-packages (4.46.0)\n",
            "Requirement already satisfied: tensorflow-intel==2.11.0; platform_system == \"Windows\" in c:\\users\\lidia\\miniconda3\\lib\\site-packages (from tensorflow) (2.11.0)\n",
            "Requirement already satisfied: tensorboard<2.11,>=2.10 in c:\\users\\lidia\\miniconda3\\lib\\site-packages (from tensorflow-gpu) (2.10.1)\n",
            "Requirement already satisfied: setuptools in c:\\users\\lidia\\miniconda3\\lib\\site-packages (from tensorflow-gpu) (46.4.0.post20200518)\n",
            "Requirement already satisfied: six>=1.12.0 in c:\\users\\lidia\\miniconda3\\lib\\site-packages (from tensorflow-gpu) (1.14.0)\n",
            "Requirement already satisfied: packaging in c:\\users\\lidia\\miniconda3\\lib\\site-packages (from tensorflow-gpu) (20.4)\n",
            "Requirement already satisfied: protobuf<3.20,>=3.9.2 in c:\\users\\lidia\\miniconda3\\lib\\site-packages (from tensorflow-gpu) (3.19.6)\n",
            "Requirement already satisfied: tensorflow-io-gcs-filesystem>=0.23.1 in c:\\users\\lidia\\miniconda3\\lib\\site-packages (from tensorflow-gpu) (0.27.0)\n",
            "Requirement already satisfied: typing-extensions>=3.6.6 in c:\\users\\lidia\\miniconda3\\lib\\site-packages (from tensorflow-gpu) (4.4.0)\n",
            "Requirement already satisfied: gast<=0.4.0,>=0.2.1 in c:\\users\\lidia\\miniconda3\\lib\\site-packages (from tensorflow-gpu) (0.4.0)\n",
            "Requirement already satisfied: absl-py>=1.0.0 in c:\\users\\lidia\\miniconda3\\lib\\site-packages (from tensorflow-gpu) (1.3.0)\n",
            "Requirement already satisfied: opt-einsum>=2.3.2 in c:\\users\\lidia\\miniconda3\\lib\\site-packages (from tensorflow-gpu) (3.3.0)\n",
            "Requirement already satisfied: libclang>=13.0.0 in c:\\users\\lidia\\miniconda3\\lib\\site-packages (from tensorflow-gpu) (14.0.6)\n",
            "Requirement already satisfied: google-pasta>=0.1.1 in c:\\users\\lidia\\miniconda3\\lib\\site-packages (from tensorflow-gpu) (0.2.0)\n",
            "Requirement already satisfied: tensorflow-estimator<2.11,>=2.10.0 in c:\\users\\lidia\\miniconda3\\lib\\site-packages (from tensorflow-gpu) (2.10.0)\n",
            "Requirement already satisfied: astunparse>=1.6.0 in c:\\users\\lidia\\miniconda3\\lib\\site-packages (from tensorflow-gpu) (1.6.3)\n",
            "Requirement already satisfied: keras-preprocessing>=1.1.1 in c:\\users\\lidia\\miniconda3\\lib\\site-packages (from tensorflow-gpu) (1.1.2)\n",
            "Requirement already satisfied: flatbuffers>=2.0 in c:\\users\\lidia\\miniconda3\\lib\\site-packages (from tensorflow-gpu) (22.10.26)\n",
            "Requirement already satisfied: h5py>=2.9.0 in c:\\users\\lidia\\miniconda3\\lib\\site-packages (from tensorflow-gpu) (3.7.0)\n",
            "Requirement already satisfied: keras<2.11,>=2.10.0 in c:\\users\\lidia\\miniconda3\\lib\\site-packages (from tensorflow-gpu) (2.10.0)\n",
            "Requirement already satisfied: wrapt>=1.11.0 in c:\\users\\lidia\\miniconda3\\lib\\site-packages (from tensorflow-gpu) (1.14.1)\n",
            "Requirement already satisfied: termcolor>=1.1.0 in c:\\users\\lidia\\miniconda3\\lib\\site-packages (from tensorflow-gpu) (2.1.0)\n",
            "Requirement already satisfied: numpy>=1.20 in c:\\users\\lidia\\miniconda3\\lib\\site-packages (from tensorflow-gpu) (1.23.4)\n",
            "Requirement already satisfied: grpcio<2.0,>=1.24.3 in c:\\users\\lidia\\miniconda3\\lib\\site-packages (from tensorflow-gpu) (1.50.0)\n",
            "Requirement already satisfied: python-dateutil>=2.1 in c:\\users\\lidia\\miniconda3\\lib\\site-packages (from matplotlib) (2.8.1)\n",
            "Requirement already satisfied: pillow>=6.2.0 in c:\\users\\lidia\\miniconda3\\lib\\site-packages (from matplotlib) (8.0.1)\n",
            "Requirement already satisfied: certifi>=2020.06.20 in c:\\users\\lidia\\miniconda3\\lib\\site-packages (from matplotlib) (2020.6.20)\n",
            "Requirement already satisfied: cycler>=0.10 in c:\\users\\lidia\\miniconda3\\lib\\site-packages (from matplotlib) (0.10.0)\n",
            "Requirement already satisfied: pyparsing!=2.0.4,!=2.1.2,!=2.1.6,>=2.0.3 in c:\\users\\lidia\\miniconda3\\lib\\site-packages (from matplotlib) (2.4.7)\n",
            "Requirement already satisfied: kiwisolver>=1.0.1 in c:\\users\\lidia\\miniconda3\\lib\\site-packages (from matplotlib) (1.2.0)\n",
            "Requirement already satisfied: pytz>=2020.1 in c:\\users\\lidia\\miniconda3\\lib\\site-packages (from pandas) (2022.6)\n",
            "Requirement already satisfied: scipy>=1.3.2 in c:\\users\\lidia\\miniconda3\\lib\\site-packages (from scikit-learn) (1.9.3)\n",
            "Requirement already satisfied: joblib>=1.0.0 in c:\\users\\lidia\\miniconda3\\lib\\site-packages (from scikit-learn) (1.2.0)\n",
            "Requirement already satisfied: threadpoolctl>=2.0.0 in c:\\users\\lidia\\miniconda3\\lib\\site-packages (from scikit-learn) (3.1.0)\n",
            "Requirement already satisfied: google-auth-oauthlib<0.5,>=0.4.1 in c:\\users\\lidia\\miniconda3\\lib\\site-packages (from tensorboard<2.11,>=2.10->tensorflow-gpu) (0.4.6)\n",
            "Requirement already satisfied: google-auth<3,>=1.6.3 in c:\\users\\lidia\\miniconda3\\lib\\site-packages (from tensorboard<2.11,>=2.10->tensorflow-gpu) (2.14.1)\n",
            "Requirement already satisfied: tensorboard-data-server<0.7.0,>=0.6.0 in c:\\users\\lidia\\miniconda3\\lib\\site-packages (from tensorboard<2.11,>=2.10->tensorflow-gpu) (0.6.1)\n",
            "Requirement already satisfied: wheel>=0.26 in c:\\users\\lidia\\miniconda3\\lib\\site-packages (from tensorboard<2.11,>=2.10->tensorflow-gpu) (0.34.2)\n",
            "Requirement already satisfied: werkzeug>=1.0.1 in c:\\users\\lidia\\miniconda3\\lib\\site-packages (from tensorboard<2.11,>=2.10->tensorflow-gpu) (2.2.2)\n",
            "Requirement already satisfied: markdown>=2.6.8 in c:\\users\\lidia\\miniconda3\\lib\\site-packages (from tensorboard<2.11,>=2.10->tensorflow-gpu) (3.4.1)\n",
            "Requirement already satisfied: requests<3,>=2.21.0 in c:\\users\\lidia\\miniconda3\\lib\\site-packages (from tensorboard<2.11,>=2.10->tensorflow-gpu) (2.23.0)\n",
            "Requirement already satisfied: tensorboard-plugin-wit>=1.6.0 in c:\\users\\lidia\\miniconda3\\lib\\site-packages (from tensorboard<2.11,>=2.10->tensorflow-gpu) (1.8.1)\n",
            "Requirement already satisfied: requests-oauthlib>=0.7.0 in c:\\users\\lidia\\miniconda3\\lib\\site-packages (from google-auth-oauthlib<0.5,>=0.4.1->tensorboard<2.11,>=2.10->tensorflow-gpu) (1.3.1)\n",
            "Requirement already satisfied: cachetools<6.0,>=2.0.0 in c:\\users\\lidia\\miniconda3\\lib\\site-packages (from google-auth<3,>=1.6.3->tensorboard<2.11,>=2.10->tensorflow-gpu) (5.2.0)\n",
            "Requirement already satisfied: rsa<5,>=3.1.4; python_version >= \"3.6\" in c:\\users\\lidia\\miniconda3\\lib\\site-packages (from google-auth<3,>=1.6.3->tensorboard<2.11,>=2.10->tensorflow-gpu) (4.9)\n",
            "Requirement already satisfied: pyasn1-modules>=0.2.1 in c:\\users\\lidia\\miniconda3\\lib\\site-packages (from google-auth<3,>=1.6.3->tensorboard<2.11,>=2.10->tensorflow-gpu) (0.2.8)\n",
            "Collecting MarkupSafe>=2.1.1\n",
            "  Downloading MarkupSafe-2.1.2-cp38-cp38-win_amd64.whl (16 kB)\n",
            "Requirement already satisfied: importlib-metadata>=4.4; python_version < \"3.10\" in c:\\users\\lidia\\miniconda3\\lib\\site-packages (from markdown>=2.6.8->tensorboard<2.11,>=2.10->tensorflow-gpu) (5.0.0)\n",
            "Requirement already satisfied: chardet<4,>=3.0.2 in c:\\users\\lidia\\miniconda3\\lib\\site-packages (from requests<3,>=2.21.0->tensorboard<2.11,>=2.10->tensorflow-gpu) (3.0.4)\n",
            "Requirement already satisfied: urllib3!=1.25.0,!=1.25.1,<1.26,>=1.21.1 in c:\\users\\lidia\\miniconda3\\lib\\site-packages (from requests<3,>=2.21.0->tensorboard<2.11,>=2.10->tensorflow-gpu) (1.25.8)\n",
            "Requirement already satisfied: idna<3,>=2.5 in c:\\users\\lidia\\miniconda3\\lib\\site-packages (from requests<3,>=2.21.0->tensorboard<2.11,>=2.10->tensorflow-gpu) (2.9)\n",
            "Requirement already satisfied: oauthlib>=3.0.0 in c:\\users\\lidia\\miniconda3\\lib\\site-packages (from requests-oauthlib>=0.7.0->google-auth-oauthlib<0.5,>=0.4.1->tensorboard<2.11,>=2.10->tensorflow-gpu) (3.2.2)\n",
            "Requirement already satisfied: pyasn1>=0.1.3 in c:\\users\\lidia\\miniconda3\\lib\\site-packages (from rsa<5,>=3.1.4; python_version >= \"3.6\"->google-auth<3,>=1.6.3->tensorboard<2.11,>=2.10->tensorflow-gpu) (0.4.8)\n",
            "Requirement already satisfied: zipp>=0.5 in c:\\users\\lidia\\miniconda3\\lib\\site-packages (from importlib-metadata>=4.4; python_version < \"3.10\"->markdown>=2.6.8->tensorboard<2.11,>=2.10->tensorflow-gpu) (3.3.1)\n",
            "Installing collected packages: MarkupSafe\n",
            "  Attempting uninstall: MarkupSafe\n",
            "    Found existing installation: MarkupSafe 2.0.1\n",
            "    Uninstalling MarkupSafe-2.0.1:\n",
            "      Successfully uninstalled MarkupSafe-2.0.1\n",
            "Successfully installed MarkupSafe-2.1.2\n"
          ]
        }
      ],
      "source": [
        "!pip install tensorflow tensorflow-gpu opencv-python matplotlib pandas scikit-learn tqdm"
      ]
    },
    {
      "cell_type": "code",
      "execution_count": 2,
      "metadata": {
        "id": "ad_BMXkNELTx"
      },
      "outputs": [],
      "source": [
        "import os\n",
        "import tensorflow as tf\n",
        "import pandas as pd\n",
        "from tqdm import tqdm\n",
        "from keras.models import Sequential\n",
        "from keras.layers import Dense, Dropout, Flatten\n",
        "from keras.layers import Conv2D, MaxPooling2D\n",
        "from keras.utils import to_categorical\n",
        "from tensorflow.keras.utils import load_img , img_to_array\n",
        "import numpy as np\n",
        "from sklearn.metrics import confusion_matrix , classification_report\n",
        "from sklearn.model_selection import train_test_split\n",
        "import matplotlib.pyplot as plt\n",
        "%matplotlib inline"
      ]
    },
    {
      "cell_type": "code",
      "execution_count": null,
      "metadata": {},
      "outputs": [],
      "source": []
    }
  ],
  "metadata": {
    "colab": {
      "include_colab_link": true,
      "provenance": []
    },
    "kernelspec": {
      "display_name": "base",
      "language": "python",
      "name": "python3"
    },
    "language_info": {
      "codemirror_mode": {
        "name": "ipython",
        "version": 3
      },
      "file_extension": ".py",
      "mimetype": "text/x-python",
      "name": "python",
      "nbconvert_exporter": "python",
      "pygments_lexer": "ipython3",
      "version": "3.8.3"
    },
    "vscode": {
      "interpreter": {
        "hash": "dba905228e1f51fbe140321a8b782fa4d93854eae2194edce5c98e8e94f4de6f"
      }
    }
  },
  "nbformat": 4,
  "nbformat_minor": 0
}
